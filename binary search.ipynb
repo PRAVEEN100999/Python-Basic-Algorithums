{
 "cells": [
  {
   "cell_type": "code",
   "execution_count": 13,
   "metadata": {},
   "outputs": [],
   "source": [
    "def binary_search(arr,val):\n",
    "    if len(arr)==0 or(len(arr)==1 and arr[0]!=val):\n",
    "        return False\n",
    "    mid = arr[len(arr)/2]\n",
    "    if mid==val:\n",
    "        return True \n",
    "    if mid<val :\n",
    "        return binary_search(arr[:len(arr)/2],val)\n",
    "    if mid>val :\n",
    "        return binary_search(arr[len(arr)/2+1:],val)\n",
    "    "
   ]
  },
  {
   "cell_type": "code",
   "execution_count": 16,
   "metadata": {},
   "outputs": [
    {
     "ename": "SyntaxError",
     "evalue": "invalid syntax (<ipython-input-16-85c37e4223d5>, line 2)",
     "output_type": "error",
     "traceback": [
      "\u001b[1;36m  File \u001b[1;32m\"<ipython-input-16-85c37e4223d5>\"\u001b[1;36m, line \u001b[1;32m2\u001b[0m\n\u001b[1;33m    new_arr = [for _ in range(length)]\u001b[0m\n\u001b[1;37m                 ^\u001b[0m\n\u001b[1;31mSyntaxError\u001b[0m\u001b[1;31m:\u001b[0m invalid syntax\n"
     ]
    }
   ],
   "source": [
    "def create_array(length = 10):\n",
    "    new_arr = [for _ in range(length)]\n",
    "    return new_arr\n",
    "ar = create_array()\n",
    "print ar\n",
    "aa = binary_search(ar,8)"
   ]
  },
  {
   "cell_type": "code",
   "execution_count": null,
   "metadata": {},
   "outputs": [],
   "source": []
  }
 ],
 "metadata": {
  "kernelspec": {
   "display_name": "Python 3",
   "language": "python",
   "name": "python3"
  },
  "language_info": {
   "codemirror_mode": {
    "name": "ipython",
    "version": 3
   },
   "file_extension": ".py",
   "mimetype": "text/x-python",
   "name": "python",
   "nbconvert_exporter": "python",
   "pygments_lexer": "ipython3",
   "version": "3.7.2"
  }
 },
 "nbformat": 4,
 "nbformat_minor": 2
}
