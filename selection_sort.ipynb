{
 "cells": [
  {
   "cell_type": "code",
   "execution_count": 1,
   "metadata": {},
   "outputs": [],
   "source": [
    "from random import randint\n",
    "def create_array(size=10 ,max = 50):\n",
    "    return[randint(0,max) for _ in range(size)]\n",
    "\n"
   ]
  },
  {
   "cell_type": "code",
   "execution_count": 2,
   "metadata": {},
   "outputs": [],
   "source": [
    "def selection_sort(a):\n",
    "    sort_len = 0\n",
    "    while sort_len < len(a):\n",
    "        min_idx = None\n",
    "        for i,elem in enumerate(a[sort_len:]):\n",
    "            if min_idx ==None or elem <a[min_idx]:\n",
    "                min_idx = i + sort_len\n",
    "        a[sort_len],a[min_idx] = a[min_idx],a[sort_len]   \n",
    "        sort_len +=1\n",
    "    return a    "
   ]
  },
  {
   "cell_type": "code",
   "execution_count": 5,
   "metadata": {},
   "outputs": [
    {
     "name": "stdout",
     "output_type": "stream",
     "text": [
      "[17, 33, 19, 2, 37, 5, 14, 10, 16, 50]\n",
      "[2, 5, 10, 14, 16, 17, 19, 33, 37, 50]\n"
     ]
    }
   ],
   "source": [
    "a = create_array()\n",
    "print(a)\n",
    "a = selection_sort(a)\n",
    "print(a)"
   ]
  },
  {
   "cell_type": "code",
   "execution_count": null,
   "metadata": {},
   "outputs": [],
   "source": []
  },
  {
   "cell_type": "code",
   "execution_count": null,
   "metadata": {},
   "outputs": [],
   "source": []
  }
 ],
 "metadata": {
  "kernelspec": {
   "display_name": "Python 3",
   "language": "python",
   "name": "python3"
  },
  "language_info": {
   "codemirror_mode": {
    "name": "ipython",
    "version": 3
   },
   "file_extension": ".py",
   "mimetype": "text/x-python",
   "name": "python",
   "nbconvert_exporter": "python",
   "pygments_lexer": "ipython3",
   "version": "3.7.2"
  }
 },
 "nbformat": 4,
 "nbformat_minor": 2
}
