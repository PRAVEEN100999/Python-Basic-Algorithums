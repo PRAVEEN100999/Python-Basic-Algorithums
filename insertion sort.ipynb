{
 "cells": [
  {
   "cell_type": "code",
   "execution_count": 6,
   "metadata": {},
   "outputs": [],
   "source": [
    "from random import randint\n",
    "def create_array(size = 10,max = 50):\n",
    "    return[randint(0,max) for _ in range(size)]\n"
   ]
  },
  {
   "cell_type": "code",
   "execution_count": null,
   "metadata": {},
   "outputs": [],
   "source": [
    "def insertion_sort(a):\n",
    "    for sort_len in range(1,len(a)):\n",
    "        #next unsorted item\n",
    "        cur_item = a[sort_len]\n",
    "        #current index item \n",
    "        insert_idx = sort_len\n",
    "        \n",
    "        while insert_idx>0 and cur_item<a[insert_idx - 1]:\n",
    "            a[insert_idx] = a[insert_idx - 1]\n",
    "            insert_idx +=-1\n",
    "            \n",
    "        a[insert_idx] = cur_item \n",
    "    return a\n",
    "a = create_array()\n",
    "print(a)\n",
    "s = insertion_sort(a)\n",
    "print(s)"
   ]
  },
  {
   "cell_type": "code",
   "execution_count": null,
   "metadata": {},
   "outputs": [],
   "source": []
  }
 ],
 "metadata": {
  "kernelspec": {
   "display_name": "Python 3",
   "language": "python",
   "name": "python3"
  },
  "language_info": {
   "codemirror_mode": {
    "name": "ipython",
    "version": 3
   },
   "file_extension": ".py",
   "mimetype": "text/x-python",
   "name": "python",
   "nbconvert_exporter": "python",
   "pygments_lexer": "ipython3",
   "version": "3.7.2"
  }
 },
 "nbformat": 4,
 "nbformat_minor": 2
}
