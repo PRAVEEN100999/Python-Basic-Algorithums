{
 "cells": [
  {
   "cell_type": "code",
   "execution_count": 6,
   "metadata": {},
   "outputs": [],
   "source": [
    "from random import randint \n",
    "def create_array(size = 10,max = 50):\n",
    "    return[randint(0,max) for _ in range(size)]\n"
   ]
  },
  {
   "cell_type": "code",
   "execution_count": 13,
   "metadata": {},
   "outputs": [],
   "source": [
    "def quicksort(a):\n",
    "    if len(a)<= 1:\n",
    "        return a\n",
    "    smaller,equal,larger = [],[],[]\n",
    "    pivot = a[randint(0,len(a)-1)]\n",
    "    \n",
    "    for x in a:\n",
    "        if x < pivot:\n",
    "            smaller.append(x)\n",
    "        elif x== pivot:\n",
    "            equal.append(x)\n",
    "        else :\n",
    "            larger.append(x)\n",
    "    return (quicksort(smaller) + equal + quicksort(larger))       \n",
    "    \n",
    "    "
   ]
  },
  {
   "cell_type": "code",
   "execution_count": 14,
   "metadata": {},
   "outputs": [
    {
     "name": "stdout",
     "output_type": "stream",
     "text": [
      "[26, 7, 36, 16, 1, 7, 37, 48, 35, 50]\n",
      "[1, 7, 7, 16, 26, 35, 36, 37, 48, 50]\n"
     ]
    }
   ],
   "source": [
    "a = create_array()\n",
    "print(a)\n",
    "a = quicksort(a)\n",
    "print(a)"
   ]
  },
  {
   "cell_type": "code",
   "execution_count": null,
   "metadata": {},
   "outputs": [],
   "source": []
  }
 ],
 "metadata": {
  "kernelspec": {
   "display_name": "Python 3",
   "language": "python",
   "name": "python3"
  },
  "language_info": {
   "codemirror_mode": {
    "name": "ipython",
    "version": 3
   },
   "file_extension": ".py",
   "mimetype": "text/x-python",
   "name": "python",
   "nbconvert_exporter": "python",
   "pygments_lexer": "ipython3",
   "version": "3.7.2"
  }
 },
 "nbformat": 4,
 "nbformat_minor": 2
}
