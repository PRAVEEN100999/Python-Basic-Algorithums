{
 "cells": [
  {
   "cell_type": "code",
   "execution_count": 1,
   "metadata": {},
   "outputs": [],
   "source": [
    "from matplotlib import pyplot as plt\n",
    "from random import randint \n",
    "from math import atan2"
   ]
  },
  {
   "cell_type": "code",
   "execution_count": 4,
   "metadata": {},
   "outputs": [],
   "source": [
    "def create_points(ct,min=0,max=50):\n",
    "    return [[randint(min,max),randint(min,max)]for _ in range(ct)]"
   ]
  },
  {
   "cell_type": "code",
   "execution_count": null,
   "metadata": {},
   "outputs": [],
   "source": []
  },
  {
   "cell_type": "code",
   "execution_count": 11,
   "metadata": {},
   "outputs": [],
   "source": [
    "def scatter_plot(coords,convex_hull=None):\n",
    "    xs,ys = zip(*coords)\n",
    "    plt.scatter(xs,ys)\n",
    "    if convex_hull!= None :\n",
    "        for i in range(1,len(convex_hull)+1):\n",
    "            if i == len(convex_hull):\n",
    "                i = 0\n",
    "            c0 = convex_hull[i-1]\n",
    "            c1 = convex-hull[i]\n",
    "            plt.plot((c0[0],c1[0]),(c0[0],c1[0]),'r')\n",
    "    plt.show()        \n",
    "# scatter_plot(create_points(10))    "
   ]
  },
  {
   "cell_type": "code",
   "execution_count": 12,
   "metadata": {},
   "outputs": [],
   "source": [
    "def quicksort(a):\n",
    "    if len(a) <= 1:\n",
    "        return a\n",
    "    smaller,equal,larger = [],[],[]\n",
    "    piv_avg = polar_angle(a[randint(0,len(a)-1)])\n",
    "    for pt in a:\n",
    "        pt_ang = polar_angle(pt)\n",
    "        if pt_ang < piv_ang:\n",
    "            smaller.append(pt)\n",
    "        elif pt_ang == piv_ang:\n",
    "        else:\n",
    "            larger.append(pt)\n",
    "            \n",
    "    return (quicksort(smaller) + sorted(equal,key = distance) + quicksort(larger))        \n",
    "    "
   ]
  },
  {
   "cell_type": "code",
   "execution_count": 26,
   "metadata": {},
   "outputs": [],
   "source": [
    "def graham_scan(points,show_progress = False):\n",
    "    global anchor\n",
    "    min_idx = None\n",
    "    for (i,(x,y)) in enumerate(points):\n",
    "        if min_idx == None or y < points[min_idx][i]:\n",
    "            min_idx = i\n",
    "        if y == (points[min_idx][1] and x < points[min_idx][0]):\n",
    "            min_idx = i\n",
    "    anchor = points[min_idx] \n",
    "    sorted_pts = quicksort(points)\n",
    "    del sorted_pts[sorted_pts.index(anchor)]\n",
    "    \n",
    "    hull = [anchor,sorted_pts[0]]\n",
    "    for s in sorted_pts[1:]:\n",
    "        while det (hull[-2],hull[-1],s) <= 0:\n",
    "            del hull [-1]\n",
    "            if len(null)<2:\n",
    "                break\n",
    "        hull.append(s)\n",
    "        if show_progress:\n",
    "            scatter_plot(points,hull)\n",
    "    return hull                   "
   ]
  },
  {
   "cell_type": "code",
   "execution_count": 27,
   "metadata": {},
   "outputs": [
    {
     "name": "stdout",
     "output_type": "stream",
     "text": [
      "[[27, 44], [1, 44], [15, 16], [18, 24], [45, 34], [40, 42], [3, 22], [22, 31], [13, 24], [8, 18]]\n"
     ]
    }
   ],
   "source": [
    "pts = create_points(10)\n",
    "print(pts)"
   ]
  },
  {
   "cell_type": "code",
   "execution_count": 28,
   "metadata": {},
   "outputs": [
    {
     "ename": "TypeError",
     "evalue": "'module' object is not iterable",
     "output_type": "error",
     "traceback": [
      "\u001b[1;31m---------------------------------------------------------------------------\u001b[0m",
      "\u001b[1;31mTypeError\u001b[0m                                 Traceback (most recent call last)",
      "\u001b[1;32m<ipython-input-28-812ba4060cf4>\u001b[0m in \u001b[0;36m<module>\u001b[1;34m\u001b[0m\n\u001b[1;32m----> 1\u001b[1;33m \u001b[0mhull\u001b[0m \u001b[1;33m=\u001b[0m \u001b[0mgraham_scan\u001b[0m\u001b[1;33m(\u001b[0m\u001b[0mplt\u001b[0m\u001b[1;33m,\u001b[0m\u001b[1;32mFalse\u001b[0m\u001b[1;33m)\u001b[0m\u001b[1;33m\u001b[0m\u001b[1;33m\u001b[0m\u001b[0m\n\u001b[0m",
      "\u001b[1;32m<ipython-input-26-2936dd64a55e>\u001b[0m in \u001b[0;36mgraham_scan\u001b[1;34m(points, show_progress)\u001b[0m\n\u001b[0;32m      2\u001b[0m     \u001b[1;32mglobal\u001b[0m \u001b[0manchor\u001b[0m\u001b[1;33m\u001b[0m\u001b[1;33m\u001b[0m\u001b[0m\n\u001b[0;32m      3\u001b[0m     \u001b[0mmin_idx\u001b[0m \u001b[1;33m=\u001b[0m \u001b[1;32mNone\u001b[0m\u001b[1;33m\u001b[0m\u001b[1;33m\u001b[0m\u001b[0m\n\u001b[1;32m----> 4\u001b[1;33m     \u001b[1;32mfor\u001b[0m \u001b[1;33m(\u001b[0m\u001b[0mi\u001b[0m\u001b[1;33m,\u001b[0m\u001b[1;33m(\u001b[0m\u001b[0mx\u001b[0m\u001b[1;33m,\u001b[0m\u001b[0my\u001b[0m\u001b[1;33m)\u001b[0m\u001b[1;33m)\u001b[0m \u001b[1;32min\u001b[0m \u001b[0menumerate\u001b[0m\u001b[1;33m(\u001b[0m\u001b[0mpoints\u001b[0m\u001b[1;33m)\u001b[0m\u001b[1;33m:\u001b[0m\u001b[1;33m\u001b[0m\u001b[1;33m\u001b[0m\u001b[0m\n\u001b[0m\u001b[0;32m      5\u001b[0m         \u001b[1;32mif\u001b[0m \u001b[0mmin_idx\u001b[0m \u001b[1;33m==\u001b[0m \u001b[1;32mNone\u001b[0m \u001b[1;32mor\u001b[0m \u001b[0my\u001b[0m \u001b[1;33m<\u001b[0m \u001b[0mpoints\u001b[0m\u001b[1;33m[\u001b[0m\u001b[0mmin_idx\u001b[0m\u001b[1;33m]\u001b[0m\u001b[1;33m[\u001b[0m\u001b[0mi\u001b[0m\u001b[1;33m]\u001b[0m\u001b[1;33m:\u001b[0m\u001b[1;33m\u001b[0m\u001b[1;33m\u001b[0m\u001b[0m\n\u001b[0;32m      6\u001b[0m             \u001b[0mmin_idx\u001b[0m \u001b[1;33m=\u001b[0m \u001b[0mi\u001b[0m\u001b[1;33m\u001b[0m\u001b[1;33m\u001b[0m\u001b[0m\n",
      "\u001b[1;31mTypeError\u001b[0m: 'module' object is not iterable"
     ]
    }
   ],
   "source": [
    "hull = graham_scan(plt,False)"
   ]
  },
  {
   "cell_type": "code",
   "execution_count": null,
   "metadata": {},
   "outputs": [],
   "source": []
  }
 ],
 "metadata": {
  "kernelspec": {
   "display_name": "Python 3",
   "language": "python",
   "name": "python3"
  },
  "language_info": {
   "codemirror_mode": {
    "name": "ipython",
    "version": 3
   },
   "file_extension": ".py",
   "mimetype": "text/x-python",
   "name": "python",
   "nbconvert_exporter": "python",
   "pygments_lexer": "ipython3",
   "version": "3.7.2"
  }
 },
 "nbformat": 4,
 "nbformat_minor": 2
}
